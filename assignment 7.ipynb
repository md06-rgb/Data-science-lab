{
 "cells": [
  {
   "cell_type": "raw",
   "id": "7dd43016-b08e-4279-a0c3-61fbc3c5b4dd",
   "metadata": {},
   "source": [
    "Q1:\n",
    "create a function which will take a list as an argunment and return the product of all the numbers after creating a flat list. \n",
    " \n",
    " USE below list as argunment :\n",
    " list=[1,2,3,4,[44,55,66,True],False,(34,56,78,89,34),{1,2,3,3,2,1},{1:34, \"key2\":[55,67,78,89],4:(45,22,61,34)}, [56,'data science'], 'Machine Learinig']\n",
    " \n",
    "NOTE: you must extract numeric keys and values of the dictionary also."
   ]
  },
  {
   "cell_type": "code",
   "execution_count": 1,
   "id": "a74f1766-c65d-47ab-9a98-939509924ba9",
   "metadata": {
    "tags": []
   },
   "outputs": [],
   "source": [
    "lists=[1,2,3,4,[44,55,66,True],False,(34,56,78,89,34),{1,2,3,3,2,1},{1:34, \"key2\":[55,67,78,89],4:(45,22,61,34)}, [56,'data science'], 'Machine Learinig']"
   ]
  },
  {
   "cell_type": "code",
   "execution_count": 7,
   "id": "31fa66c2-808e-4293-8cf5-87bc15417ab9",
   "metadata": {
    "tags": []
   },
   "outputs": [],
   "source": [
    "# isinstance take two argument and argunment 1st is item\n",
    "#  and 2nd data type that are compare with item\n",
    "# and return us \"True\" if item match else \"False\".\n",
    "\n",
    "def flatten_product(lists):\n",
    "    flat_list = []\n",
    "\n",
    "    def flatten(l):\n",
    "        for item in l:\n",
    "            if isinstance(item, (list, tuple, set)):\n",
    "                flatten(item)\n",
    "            elif isinstance(item, (int, float)):\n",
    "                flat_list.append(item)\n",
    "            elif isinstance(item, dict):\n",
    "                flatten(item.keys())\n",
    "                flatten(item.values())\n",
    "\n",
    "    flatten(lists)\n",
    "    \n",
    "    result = 1\n",
    "    for i in flat_list:\n",
    "        result *= i\n"
   ]
  },
  {
   "cell_type": "code",
   "execution_count": 8,
   "id": "5f29789e-9ed2-4925-980b-b3b2c82fcae1",
   "metadata": {
    "tags": []
   },
   "outputs": [],
   "source": [
    "lists=[1,2,3,4,[44,55,66,True],False,(34,56,78,89,34),{1,2,3,3,2,1},{1:34, \"key2\":[55,67,78,89],4:(45,22,61,34)}, [56,'data science'], 'Machine Learinig']"
   ]
  },
  {
   "cell_type": "code",
   "execution_count": 9,
   "id": "c7a84a3a-a5f5-43ed-a993-363cc08dcb4a",
   "metadata": {
    "tags": []
   },
   "outputs": [
    {
     "name": "stdout",
     "output_type": "stream",
     "text": [
      "None\n"
     ]
    }
   ],
   "source": [
    "print(flatten_product(lists))"
   ]
  },
  {
   "cell_type": "code",
   "execution_count": 2,
   "id": "bf1507e1-3f05-4850-a3f6-7de78e9122aa",
   "metadata": {},
   "outputs": [
    {
     "name": "stdout",
     "output_type": "stream",
     "text": [
      "Encrypted Sentence: r$dzmg$gl$yvxlnv$z$wzgz$hxrvmgrhg.\n"
     ]
    }
   ],
   "source": [
    "# encrypting given string 'a' as 'z' , 'b' as 'y'..... etc. in \n",
    "# lower case and argunment should be in lower case.\n",
    "\n",
    "def encrypt_message(message):\n",
    "    encrypted_message = \"\"\n",
    "    for char in message:\n",
    "        if char.isalpha():\n",
    "            if char.islower():\n",
    "                encrypted_char = chr(ord('a') + (ord('z') - ord(char)))\n",
    "            else:\n",
    "                encrypted_char = chr(ord('A') + (ord('Z') - ord(char)))\n",
    "            encrypted_message += encrypted_char\n",
    "        elif char.isspace():\n",
    "            encrypted_message += '$'\n",
    "        else:\n",
    "            encrypted_message += char\n",
    "\n",
    "    return encrypted_message.lower()\n",
    "\n",
    "input_sentence = \"I want to become a Data Scientist.\"\n",
    "\n",
    "encrypted_sentence = encrypt_message(input_sentence.lower())\n",
    "\n",
    "print(\"Encrypted Sentence:\", encrypted_sentence)\n"
   ]
  },
  {
   "cell_type": "code",
   "execution_count": null,
   "id": "98a3f2fc-8018-4bf7-b5b4-946f2ce0e000",
   "metadata": {},
   "outputs": [],
   "source": []
  }
 ],
 "metadata": {
  "kernelspec": {
   "display_name": "Python 3 (ipykernel)",
   "language": "python",
   "name": "python3"
  },
  "language_info": {
   "codemirror_mode": {
    "name": "ipython",
    "version": 3
   },
   "file_extension": ".py",
   "mimetype": "text/x-python",
   "name": "python",
   "nbconvert_exporter": "python",
   "pygments_lexer": "ipython3",
   "version": "3.11.5"
  }
 },
 "nbformat": 4,
 "nbformat_minor": 5
}
