{
 "cells": [
  {
   "cell_type": "raw",
   "id": "3551966e-0961-43a6-bc13-7dcedffb39f9",
   "metadata": {},
   "source": [
    "Q1:\n",
    "You are writing code for a company. The requirement of the company is that you create a python function that will check whether the password entered by the user is correct or not. The function should take the password as input and return the string “Valid Password” if the entered password follows the below-given password guidelines else it should return “Invalid Password”.\n",
    "\n",
    "Note:\n",
    "1. The Password should contain at least two uppercase letters and at least two lowercase letters.\n",
    "\n",
    "2. The Password should contain at least a number and three special characters.\n",
    "\n",
    "3. The length of the password should be 10 characters long."
   ]
  },
  {
   "cell_type": "code",
   "execution_count": null,
   "id": "3174179f-0a1a-4ecc-87b4-f227a04fa039",
   "metadata": {},
   "outputs": [],
   "source": [
    "# check pasword is valid or not \n",
    "import re\n",
    "def check_password(password):\n",
    "    if len(password) != 10:\n",
    "        return \"invalid password\"\n",
    " \n",
    "    count_upr=sum(1 for char in password if char.isupper())\n",
    "    count_lwr=sum(1 for char in password if char.islower())\n",
    "    \n",
    "    if count_upr < 2 or count_lwr < 2:\n",
    "        return \"invalid password\"\n",
    "    \n",
    "    if not any(char.isdigit() for char in password):\n",
    "        return \"invalid password\"\n",
    "        \n",
    "    special_symb=r\"[!@#$%^&*()-_+=<>?/]\"\n",
    "    if len(re.findall(special_symb, password)) <3:\n",
    "        return \"invalid password\"\n",
    "    \n",
    "    return \"valid password\""
   ]
  },
  {
   "cell_type": "code",
   "execution_count": null,
   "id": "8741302d-8469-4a1f-b85a-06e339071b2b",
   "metadata": {
    "tags": []
   },
   "outputs": [],
   "source": [
    "check_password(\"MoookHd@k3\")"
   ]
  },
  {
   "cell_type": "code",
   "execution_count": null,
   "id": "9c0d6d5a-8f01-4be6-b3e0-6bd50f5b7262",
   "metadata": {
    "tags": []
   },
   "outputs": [],
   "source": [
    "check_password(\"MokHd99@k3\")"
   ]
  },
  {
   "cell_type": "raw",
   "id": "caa6541e-c41b-431f-9dd2-7d63d7c00cf2",
   "metadata": {},
   "source": [
    "Q2. Solve the below-given questions using at least one of the following:\n",
    "\n",
    "1. Lambda functioJ\n",
    "2. Filter functioJ\n",
    "3. Zap functioJ\n",
    "4. List ComprehensioI\n",
    "\n",
    "* Check if the string starts with a particular letter.\n",
    "* Check if the string is numeric.\n",
    "* Sort a list of tuples having fruit names and their quantity. \n",
    "  [(\"mango\",99),(\"orange\",80), (\"grapes\", 1000)]\n",
    "\n",
    "* Find the squares of numbers from 1 to 10.\n",
    "* Find the cube root of numbers from 1 to 10.\n",
    "* Check if a given number is even.\n",
    "* Filter odd numbers from the given list.\n",
    "  [1,2,3,4,5,6,7,8,9,10]\n",
    "* Sort a list of integers into positive and negative integers lists.\n",
    "  [1,2,3,4,5,6,-1,-2,-3,-4,-5,0]"
   ]
  },
  {
   "cell_type": "code",
   "execution_count": null,
   "id": "917260b2-5df5-41c5-861e-2d8cfdb76572",
   "metadata": {},
   "outputs": [],
   "source": [
    "# Check if the string starts with a particular letter.\n",
    "     \n",
    "start_letter=lambda x,letter: x.startswith(letter) \n",
    "print(start_letter(\"mohammad\",'m'))"
   ]
  },
  {
   "cell_type": "code",
   "execution_count": null,
   "id": "11062240-e7cb-4828-befc-945d5a95c280",
   "metadata": {
    "tags": []
   },
   "outputs": [],
   "source": [
    "#Check if the string is numeric.\n",
    "string=input(\"Enter any string:\")\n",
    "s= lambda string : string.isnumeric()\n",
    "print(s(string1))"
   ]
  },
  {
   "cell_type": "code",
   "execution_count": null,
   "id": "27b3d201-02fd-4c76-ad34-6069f1dd5cbf",
   "metadata": {
    "tags": []
   },
   "outputs": [],
   "source": [
    "# Sort a list of tuples having fruit names and their quantity. \n",
    "# [(\"mango\",99),(\"orange\",80), (\"grapes\", 1000)]\n",
    "\n",
    "fruit=[('mango',99),('orange',90),('grapes',1000)]\n",
    "sorted_list=sorted(fruit,key=lambda x:x[1])\n",
    "print(sorted_list)"
   ]
  },
  {
   "cell_type": "code",
   "execution_count": null,
   "id": "ecd3f9c9-2775-48cf-be89-b0ebc73c72ed",
   "metadata": {
    "tags": []
   },
   "outputs": [],
   "source": [
    "#Find the squares of numbers from 1 to 10. using lambda\n",
    "\n",
    "n=[i for i in range(1,11)]\n",
    "result= list(map(lambda x:x**2, n))\n",
    "print(result)"
   ]
  },
  {
   "cell_type": "code",
   "execution_count": null,
   "id": "a3edc61d-9d2e-472a-96cc-c645bc65350a",
   "metadata": {
    "tags": []
   },
   "outputs": [],
   "source": [
    "# Find the cube root of numbers from 1 to 10.\n",
    "import math\n",
    "\n",
    "lists1=[i for i in range(1,11)]\n",
    "cube_root=list(map(lambda x: round(math.pow(x,1/3),2),lists1))\n",
    "print(cube_root)"
   ]
  },
  {
   "cell_type": "code",
   "execution_count": null,
   "id": "8b1fc648-6bbe-42d4-9500-9a489497f6e5",
   "metadata": {
    "tags": []
   },
   "outputs": [],
   "source": [
    "# Check if a given number is even.\n",
    "\n",
    "num= int(input(\"Enter any number :\"))\n",
    "check=lambda num: num%2==0\n",
    "print(check(num))"
   ]
  },
  {
   "cell_type": "code",
   "execution_count": null,
   "id": "72b715b4-fbab-4363-bc7c-a22b08de864b",
   "metadata": {
    "tags": []
   },
   "outputs": [],
   "source": [
    "# Filter odd numbers from the given list.\n",
    "\n",
    "l=[n for n in range(0,10)]\n",
    "odd=list(filter(lambda i: i%2!=0,l))\n",
    "print(odd)"
   ]
  },
  {
   "cell_type": "code",
   "execution_count": null,
   "id": "d70372e1-2b60-4d63-a6b7-3c051fb4f579",
   "metadata": {
    "tags": []
   },
   "outputs": [],
   "source": [
    "# sort a list of integers into positive and negative integers lists.\n",
    "\n",
    "numbers_list = [1, 2, 3, 4, 5, 6, -1, -2, -3, -4, -5, 0]\n",
    "\n",
    "positive_numbers = list(filter(lambda x: x > 0, numbers_list))\n",
    "negative_numbers = list(filter(lambda x: x < 0, numbers_list))\n",
    "\n",
    "print(\"Positive Numbers:\", positive_numbers)\n",
    "print(\"Negative Numbers:\", negative_numbers)\n"
   ]
  },
  {
   "cell_type": "code",
   "execution_count": null,
   "id": "bf15c07a-705b-4508-ad20-e98105346c8c",
   "metadata": {},
   "outputs": [],
   "source": []
  }
 ],
 "metadata": {
  "kernelspec": {
   "display_name": "Python 3 (ipykernel)",
   "language": "python",
   "name": "python3"
  },
  "language_info": {
   "codemirror_mode": {
    "name": "ipython",
    "version": 3
   },
   "file_extension": ".py",
   "mimetype": "text/x-python",
   "name": "python",
   "nbconvert_exporter": "python",
   "pygments_lexer": "ipython3",
   "version": "3.11.5"
  }
 },
 "nbformat": 4,
 "nbformat_minor": 5
}
