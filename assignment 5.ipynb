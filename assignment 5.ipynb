{
 "cells": [
  {
   "cell_type": "raw",
   "id": "0943928e-ecad-47ba-809f-69d508573f0e",
   "metadata": {},
   "source": [
    "Ans.1:\n",
    "Guido van Rossum developed python programming language."
   ]
  },
  {
   "cell_type": "raw",
   "id": "6eed5213-4f04-42c0-a279-817066472e3d",
   "metadata": {},
   "source": [
    "Ans 2.:\n",
    "Python is a versatile programming language that supports various programming paradigms.\n",
    "like( oops, procudural, dynamic,structured, functional  and scripting etc)"
   ]
  },
  {
   "cell_type": "raw",
   "id": "f100ddb1-6703-4ef1-8c1e-ef409d3af4dd",
   "metadata": {},
   "source": [
    "Ans 3:\n",
    "yes, python is a case sensitive when dealing with identifiers."
   ]
  },
  {
   "cell_type": "raw",
   "id": "2e557d6a-7bda-48e4-bf55-cb7e9d565e5c",
   "metadata": {},
   "source": [
    "Ans 4:\n",
    "The correct extension of the python file is .py"
   ]
  },
  {
   "cell_type": "raw",
   "id": "a58cd117-f488-4aab-b703-2ae450315300",
   "metadata": {},
   "source": [
    "Ans 5:\n",
    "python code is interpreted."
   ]
  },
  {
   "cell_type": "raw",
   "id": "dc3d5e8e-6aa0-41df-9fca-859bbc77b195",
   "metadata": {},
   "source": [
    "Ans 6:\n",
    "Here few blocks of code used to define in python language are (classes, condition(if,else), loop(like for, while),exception handling etc.). "
   ]
  },
  {
   "cell_type": "raw",
   "id": "bb6334ae-e679-48a9-93f7-a87e50fb5e46",
   "metadata": {},
   "source": [
    "Ans 7:\n",
    "The 'hash(#)' character used to give single-line comments in python."
   ]
  },
  {
   "cell_type": "raw",
   "id": "2f6503da-ac09-4c26-bc3c-0adfb28bdcbd",
   "metadata": {},
   "source": [
    "Ans 8:\n",
    "'sys' and 'platform' function used to find the versionn of python that we are currently working on.\n",
    "e.g given below.\n"
   ]
  },
  {
   "cell_type": "code",
   "execution_count": null,
   "id": "74c9d35b-1363-49c6-a914-28238d3a8374",
   "metadata": {},
   "outputs": [],
   "source": [
    "#using  sys function.\n",
    "import sys\n",
    "print(sys.version)"
   ]
  },
  {
   "cell_type": "code",
   "execution_count": 3,
   "id": "c01744e2-a949-4c15-b033-312fb0316325",
   "metadata": {
    "tags": []
   },
   "outputs": [
    {
     "name": "stdout",
     "output_type": "stream",
     "text": [
      "3.11.5\n"
     ]
    }
   ],
   "source": [
    "#using platform function.\n",
    "import platform\n",
    "print(platform.python_version())"
   ]
  },
  {
   "cell_type": "raw",
   "id": "417d1c93-64d3-4ec5-87c6-195eb5104f34",
   "metadata": {},
   "source": [
    "Ans 9:\n",
    "python supports the creation of anonymous functions at runtime, using a construct called 'lambda expression'."
   ]
  },
  {
   "cell_type": "raw",
   "id": "3f09bde8-ddbe-4d96-93c2-2da82f25d3bb",
   "metadata": {},
   "source": [
    "Ans 10:\n",
    "pip stands for 'pip installs packages'."
   ]
  },
  {
   "cell_type": "raw",
   "id": "5389019e-689a-46f4-a6ef-133b97b1760b",
   "metadata": {},
   "source": [
    "Ans 11:\n",
    "Here few built-in functions in python are ( sorted(), type(), print(), input(), range(), sum(), max(), min(), abs(),  str(), float(), int() etc.)."
   ]
  },
  {
   "cell_type": "raw",
   "id": "065bc4dd-3fd7-425d-9ea7-55cea00e7ea8",
   "metadata": {},
   "source": [
    "Ans 12:\n",
    "It is not explicitly define but in a single line there are 72 character of code ."
   ]
  },
  {
   "cell_type": "raw",
   "id": "63efbccf-3b13-497d-9df6-6df03568d83a",
   "metadata": {},
   "source": [
    "Ans 13:\n",
    "Python is a versatile programming language known for its ease of use, wide standard library, and strong community support, making it suitable for a variety of tasks across multiple platforms. Its open-source nature and integration capabilities make it an attractive choice for rapid development and automation in academia and industry.  "
   ]
  },
  {
   "cell_type": "raw",
   "id": "072cb59f-21ee-4b38-a484-62a8a9d893c5",
   "metadata": {},
   "source": [
    "Ans 14:\n",
    "In python memory managed by dynamically."
   ]
  },
  {
   "cell_type": "raw",
   "id": "318caea4-ea56-4e7c-8ac0-614b3c1dc24a",
   "metadata": {},
   "source": [
    "Ans 15:\n"
   ]
  }
 ],
 "metadata": {
  "kernelspec": {
   "display_name": "Python 3 (ipykernel)",
   "language": "python",
   "name": "python3"
  },
  "language_info": {
   "codemirror_mode": {
    "name": "ipython",
    "version": 3
   },
   "file_extension": ".py",
   "mimetype": "text/x-python",
   "name": "python",
   "nbconvert_exporter": "python",
   "pygments_lexer": "ipython3",
   "version": "3.11.5"
  }
 },
 "nbformat": 4,
 "nbformat_minor": 5
}
