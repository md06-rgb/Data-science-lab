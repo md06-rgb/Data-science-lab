{
 "cells": [
  {
   "cell_type": "code",
   "execution_count": 2,
   "id": "c6516916-95fd-4376-a1b0-b52ad1bc454c",
   "metadata": {
    "tags": []
   },
   "outputs": [],
   "source": [
    "#Q1.***to sort the given list of tuple (integer) using a lambda function"
   ]
  },
  {
   "cell_type": "code",
   "execution_count": 28,
   "id": "d7acb4cd-e5fb-4242-adc6-0a167ec5cd5d",
   "metadata": {
    "tags": []
   },
   "outputs": [],
   "source": [
    "#list of tuples\n",
    "data =[(\"Sachin Tendulakar\",34357),(\"Ricky ponting\",27483),(\"Jack kallis\",25534),(\"virat kohli\",24936)]\n",
    "sorted_data = sorted(data, key=lambda x: x[1])\n"
   ]
  },
  {
   "cell_type": "code",
   "execution_count": 29,
   "id": "109c0b73-acd5-47a7-b42b-ab92cd6f3f10",
   "metadata": {
    "tags": []
   },
   "outputs": [
    {
     "data": {
      "text/plain": [
       "[('virat kohli', 24936),\n",
       " ('Jack kallis', 25534),\n",
       " ('Ricky ponting', 27483),\n",
       " ('Sachin Tendulakar', 34357)]"
      ]
     },
     "execution_count": 29,
     "metadata": {},
     "output_type": "execute_result"
    }
   ],
   "source": [
    "sorted_data"
   ]
  },
  {
   "cell_type": "code",
   "execution_count": 33,
   "id": "dea2ec62-4e0e-4ff5-b254-48adad8b3962",
   "metadata": {
    "tags": []
   },
   "outputs": [],
   "source": [
    "#Q2.***"
   ]
  },
  {
   "cell_type": "code",
   "execution_count": 34,
   "id": "a88c7e74-365a-4ec3-8f2d-a8663ebc3cb9",
   "metadata": {
    "tags": []
   },
   "outputs": [],
   "source": [
    "list1=[1,2,3,4,5,6,7,8,9,10]"
   ]
  },
  {
   "cell_type": "code",
   "execution_count": 35,
   "id": "a6912ce5-56bb-4edf-ab60-1e63c5de83e3",
   "metadata": {
    "tags": []
   },
   "outputs": [
    {
     "data": {
      "text/plain": [
       "[1, 4, 9, 16, 25, 36, 49, 64, 81, 100]"
      ]
     },
     "execution_count": 35,
     "metadata": {},
     "output_type": "execute_result"
    }
   ],
   "source": [
    "list(map(lambda x:x**2,list1))"
   ]
  },
  {
   "cell_type": "code",
   "execution_count": 36,
   "id": "0ee8785e-d781-4037-8c86-092519e10d77",
   "metadata": {
    "tags": []
   },
   "outputs": [],
   "source": [
    "#Q3. ***"
   ]
  },
  {
   "cell_type": "code",
   "execution_count": 37,
   "id": "f89c281a-8229-4c79-8aa5-66d5652112d4",
   "metadata": {
    "tags": []
   },
   "outputs": [],
   "source": [
    "list2=[1,2,3,4,5,6,7,8,9,10]"
   ]
  },
  {
   "cell_type": "code",
   "execution_count": 41,
   "id": "977e248a-a57b-4768-8558-e4597fb62bac",
   "metadata": {
    "tags": []
   },
   "outputs": [
    {
     "data": {
      "text/plain": [
       "('1', '2', '3', '4', '5', '6', '7', '8', '9', '10')"
      ]
     },
     "execution_count": 41,
     "metadata": {},
     "output_type": "execute_result"
    }
   ],
   "source": [
    "tuple(map(lambda x:str(x) ,list2))"
   ]
  },
  {
   "cell_type": "code",
   "execution_count": 42,
   "id": "6883dcd0-264b-44f3-b38d-55ba3e77869d",
   "metadata": {
    "tags": []
   },
   "outputs": [],
   "source": [
    "#Q4.***"
   ]
  },
  {
   "cell_type": "code",
   "execution_count": 54,
   "id": "4def0d98-696d-40c6-933d-ecec6a129996",
   "metadata": {
    "tags": []
   },
   "outputs": [],
   "source": [
    "list3=list(range(1,26))"
   ]
  },
  {
   "cell_type": "code",
   "execution_count": 58,
   "id": "a477115f-3c00-42b8-8dd5-be6f8df6af03",
   "metadata": {
    "tags": []
   },
   "outputs": [
    {
     "name": "stdout",
     "output_type": "stream",
     "text": [
      "15511210043330985984000000\n"
     ]
    }
   ],
   "source": [
    "print(reduce(lambda x,y:x*y ,list3))"
   ]
  },
  {
   "cell_type": "code",
   "execution_count": 59,
   "id": "503f9e18-6b1f-4a99-8154-4139686e1b55",
   "metadata": {
    "tags": []
   },
   "outputs": [],
   "source": [
    "#Q5.***"
   ]
  },
  {
   "cell_type": "code",
   "execution_count": 60,
   "id": "5b8e963f-0fcc-4f07-8a18-b0b59e70d880",
   "metadata": {
    "tags": []
   },
   "outputs": [],
   "source": [
    "list4=[2,3,6,9,27,60,90,120,55,46]"
   ]
  },
  {
   "cell_type": "code",
   "execution_count": 64,
   "id": "980a9578-a856-4a9d-8126-dd8e3bcd49d6",
   "metadata": {
    "tags": []
   },
   "outputs": [
    {
     "data": {
      "text/plain": [
       "[6, 60, 90, 120]"
      ]
     },
     "execution_count": 64,
     "metadata": {},
     "output_type": "execute_result"
    }
   ],
   "source": [
    "list(filter(lambda x: x%2==0 and x%3==0,list4 ))"
   ]
  },
  {
   "cell_type": "code",
   "execution_count": 65,
   "id": "afd15e28-a040-444c-9460-f87806af97ef",
   "metadata": {
    "tags": []
   },
   "outputs": [],
   "source": [
    "#Q6. ***"
   ]
  },
  {
   "cell_type": "code",
   "execution_count": 66,
   "id": "a3420a56-9472-49fb-9f72-d2499ae1a177",
   "metadata": {
    "tags": []
   },
   "outputs": [],
   "source": [
    "list5=['python','php','aba','radar','level']"
   ]
  },
  {
   "cell_type": "code",
   "execution_count": null,
   "id": "58c48a4e-dd10-43da-81ad-c9a41aaadf8e",
   "metadata": {},
   "outputs": [],
   "source": []
  },
  {
   "cell_type": "code",
   "execution_count": 68,
   "id": "5cf6817b-a538-44d6-aed1-03f70ce5a144",
   "metadata": {
    "tags": []
   },
   "outputs": [
    {
     "ename": "NameError",
     "evalue": "name 'reverse' is not defined",
     "output_type": "error",
     "traceback": [
      "\u001b[1;31m---------------------------------------------------------------------------\u001b[0m",
      "\u001b[1;31mNameError\u001b[0m                                 Traceback (most recent call last)",
      "Cell \u001b[1;32mIn[68], line 1\u001b[0m\n\u001b[1;32m----> 1\u001b[0m \u001b[38;5;28mlist\u001b[39m(\u001b[38;5;28mfilter\u001b[39m(\u001b[38;5;28;01mlambda\u001b[39;00m x:reverse(x)\u001b[38;5;241m==\u001b[39mx ,list5))\n",
      "Cell \u001b[1;32mIn[68], line 1\u001b[0m, in \u001b[0;36m<lambda>\u001b[1;34m(x)\u001b[0m\n\u001b[1;32m----> 1\u001b[0m \u001b[38;5;28mlist\u001b[39m(\u001b[38;5;28mfilter\u001b[39m(\u001b[38;5;28;01mlambda\u001b[39;00m x:reverse(x)\u001b[38;5;241m==\u001b[39mx ,list5))\n",
      "\u001b[1;31mNameError\u001b[0m: name 'reverse' is not defined"
     ]
    }
   ],
   "source": [
    "list(filter(lambda x:x==x[::-1] ,list5))"
   ]
  },
  {
   "cell_type": "code",
   "execution_count": null,
   "id": "bb95b58b-8f1b-4601-942f-bedb87aae2cb",
   "metadata": {},
   "outputs": [],
   "source": []
  }
 ],
 "metadata": {
  "kernelspec": {
   "display_name": "Python 3 (ipykernel)",
   "language": "python",
   "name": "python3"
  },
  "language_info": {
   "codemirror_mode": {
    "name": "ipython",
    "version": 3
   },
   "file_extension": ".py",
   "mimetype": "text/x-python",
   "name": "python",
   "nbconvert_exporter": "python",
   "pygments_lexer": "ipython3",
   "version": "3.11.5"
  }
 },
 "nbformat": 4,
 "nbformat_minor": 5
}
