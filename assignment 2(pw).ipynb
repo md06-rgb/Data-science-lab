{
 "cells": [
  {
   "cell_type": "raw",
   "id": "0e437775-1674-436d-8df3-5aad0c28b418",
   "metadata": {},
   "source": [
    "Q1.\n",
    "Ans: def keyword is used to create a              function.\n",
    "    \n",
    " "
   ]
  },
  {
   "cell_type": "code",
   "execution_count": 10,
   "id": "f0be19f1-006b-43a9-9b1d-0c3c7c69ce89",
   "metadata": {
    "tags": []
   },
   "outputs": [],
   "source": [
    "#odd numbers of list in range 1-25"
   ]
  },
  {
   "cell_type": "code",
   "execution_count": 8,
   "id": "83dfc4a3-9571-4cfb-b4a0-90045a5ec54f",
   "metadata": {
    "tags": []
   },
   "outputs": [],
   "source": [
    "l1=[]\n",
    "def odd():\n",
    "    for i in range(1,25,2):\n",
    "        l1.append(i)\n",
    "    return l1"
   ]
  },
  {
   "cell_type": "code",
   "execution_count": 9,
   "id": "1612a02a-5777-457b-8310-49d8db57d532",
   "metadata": {
    "tags": []
   },
   "outputs": [
    {
     "data": {
      "text/plain": [
       "[1, 3, 5, 7, 9, 11, 13, 15, 17, 19, 21, 23]"
      ]
     },
     "execution_count": 9,
     "metadata": {},
     "output_type": "execute_result"
    }
   ],
   "source": [
    "odd()"
   ]
  },
  {
   "cell_type": "raw",
   "id": "bf98430c-8acb-49f2-aa7f-e34103282f88",
   "metadata": {},
   "source": [
    "Ans 2.\n",
    "      The *args syntax allows a function to accept any number of positional arguments as a tuple, while the **kwargs syntax allows a function to accept any number of keyword arguments as a dictionary.\n",
    "      "
   ]
  },
  {
   "cell_type": "code",
   "execution_count": 13,
   "id": "5fb4b16c-18d7-40c6-8692-0d79bec98538",
   "metadata": {
    "tags": []
   },
   "outputs": [],
   "source": [
    "def add(*args):\n",
    "    result=0\n",
    "    for i in args:\n",
    "        result+=i\n",
    "    return result"
   ]
  },
  {
   "cell_type": "code",
   "execution_count": 14,
   "id": "f5b74d07-b224-4ce4-8cf4-d84c7ed1c99e",
   "metadata": {
    "tags": []
   },
   "outputs": [
    {
     "data": {
      "text/plain": [
       "15"
      ]
     },
     "execution_count": 14,
     "metadata": {},
     "output_type": "execute_result"
    }
   ],
   "source": [
    "add(1,2,3,4,5)"
   ]
  },
  {
   "cell_type": "code",
   "execution_count": 15,
   "id": "abe0ffcc-6f15-4612-a032-820ea592d6c8",
   "metadata": {
    "tags": []
   },
   "outputs": [],
   "source": [
    "def display(**kwargs):\n",
    "    for k,v in kwargs.items():\n",
    "        print(f\"{k}:{v}\")\n",
    "    "
   ]
  },
  {
   "cell_type": "code",
   "execution_count": 16,
   "id": "b83976ec-5dce-476c-860e-665b706c8e71",
   "metadata": {
    "tags": []
   },
   "outputs": [
    {
     "name": "stdout",
     "output_type": "stream",
     "text": [
      "name:sudh\n",
      "age:64\n",
      "form:pw\n"
     ]
    }
   ],
   "source": [
    "display(name=\"sudh\",age=\"64\",form=\"pw\")"
   ]
  },
  {
   "cell_type": "raw",
   "id": "17d7f23f-d81c-46f3-9ab6-5445e495a02c",
   "metadata": {},
   "source": [
    "***Ans. 3:\n",
    "    * In python, iterator is a object that represents  group of data(like list, tuple, dictionaries,string etc.) and iterate over element using the iterator protocol.\n",
    "    \n",
    "*There are two method to initialize the iterator object and they are :\n",
    "    1.__iter__()   2. __next__()"
   ]
  },
  {
   "cell_type": "code",
   "execution_count": 17,
   "id": "24b71fd0-9423-40e7-bd97-077bb5937097",
   "metadata": {
    "tags": []
   },
   "outputs": [],
   "source": [
    "class MyIterator:\n",
    "    def __init__(self, data):\n",
    "        self.data=data\n",
    "        self.current=0\n",
    "        \n",
    "    def __iter__(self):\n",
    "        return self\n",
    "    \n",
    "    def __next__(self):\n",
    "        if self.current<5:\n",
    "            value = self.data[self.current]\n",
    "            self.current +=1\n",
    "            return value\n",
    "        else:\n",
    "            raise StopIteration"
   ]
  },
  {
   "cell_type": "code",
   "execution_count": 35,
   "id": "4f65f5ee-0c80-4b26-bb90-fda496c89a4e",
   "metadata": {
    "tags": []
   },
   "outputs": [],
   "source": [
    "l=[1,4,3,5,7,6,8,9]"
   ]
  },
  {
   "cell_type": "code",
   "execution_count": 39,
   "id": "624f6df7-eaf3-4e5f-9a01-561e22831fcd",
   "metadata": {
    "tags": []
   },
   "outputs": [],
   "source": [
    "mylist=MyIterator(l)\n",
    "myobj=iter(mylist)"
   ]
  },
  {
   "cell_type": "code",
   "execution_count": 40,
   "id": "7ae43416-cdea-4096-8cb9-2e577ddd520e",
   "metadata": {
    "tags": []
   },
   "outputs": [
    {
     "name": "stdout",
     "output_type": "stream",
     "text": [
      "1 4 3 5 7 "
     ]
    }
   ],
   "source": [
    "for _ in range(5):\n",
    "    print(next(myobj),end=' ')"
   ]
  },
  {
   "cell_type": "code",
   "execution_count": null,
   "id": "eddcae2a-5365-453f-8395-c8bec3eeafa7",
   "metadata": {},
   "outputs": [],
   "source": [
    "#*****Q4."
   ]
  },
  {
   "cell_type": "raw",
   "id": "443cf910-7399-41db-bfbe-4f1f2b3ccea0",
   "metadata": {},
   "source": [
    "Ans. 4.\n",
    "    *Generator functions in python are a special type of function that allow for efficient iteration over potentially large sequences of data. It use the yield keyword to produce a series of values on at a time, enabling lazy evaluation and saving memory. This allows for the dynamic generation of values, often used in conjunction with loops."
   ]
  },
  {
   "cell_type": "code",
   "execution_count": null,
   "id": "3649840b-76e9-4557-b391-2dba08b60985",
   "metadata": {},
   "outputs": [],
   "source": [
    "#*****Q5. first 20 prime no. "
   ]
  },
  {
   "cell_type": "code",
   "execution_count": 66,
   "id": "d366b131-ca22-445f-a37b-dce80cf1f694",
   "metadata": {
    "tags": []
   },
   "outputs": [],
   "source": [
    "def prime(num):\n",
    "    if num<=1:\n",
    "        return False\n",
    "    for i in range(2,int(num**0.5)+1):\n",
    "        if num%i==0:\n",
    "            return False\n",
    "    return True\n",
    "\n",
    "def prime_generator():\n",
    "    num=2\n",
    "    while num<1000:\n",
    "        if prime(num):\n",
    "            yield num\n",
    "        num+=1\n",
    "    "
   ]
  },
  {
   "cell_type": "code",
   "execution_count": 67,
   "id": "cc2b250c-c5ea-48f4-ad65-388d91230f52",
   "metadata": {
    "tags": []
   },
   "outputs": [],
   "source": [
    "p=prime_generator()"
   ]
  },
  {
   "cell_type": "code",
   "execution_count": 68,
   "id": "e195bd18-c63a-4589-973b-144e062c47df",
   "metadata": {
    "tags": []
   },
   "outputs": [
    {
     "name": "stdout",
     "output_type": "stream",
     "text": [
      "2 3 5 7 11 13 17 19 23 29 31 37 41 43 47 53 59 61 67 71 "
     ]
    }
   ],
   "source": [
    "for _ in range(20):\n",
    "    print(next(p),end=' ')"
   ]
  },
  {
   "cell_type": "code",
   "execution_count": 69,
   "id": "37c9b5d4-3c87-48bc-81dd-28d67ea68322",
   "metadata": {
    "tags": []
   },
   "outputs": [],
   "source": [
    "#Q6.first 10 fibonacci no. using while loop."
   ]
  },
  {
   "cell_type": "code",
   "execution_count": 72,
   "id": "624c6e59-c38e-4fd2-a514-321ef19ad54f",
   "metadata": {
    "tags": []
   },
   "outputs": [
    {
     "name": "stdin",
     "output_type": "stream",
     "text": [
      "Enter any number : 10\n"
     ]
    },
    {
     "name": "stdout",
     "output_type": "stream",
     "text": [
      "0 1 1 2 3 5 8 13 21 34 "
     ]
    }
   ],
   "source": [
    "num=int(input(\"Enter any number :\"))\n",
    "i=1\n",
    "a,b=0,1\n",
    "while i<=num:\n",
    "    print(a,end=' ')\n",
    "    c=a+b\n",
    "    a,b=b,c\n",
    "    i+=1"
   ]
  },
  {
   "cell_type": "code",
   "execution_count": 73,
   "id": "1ee713db-d186-4d5e-a908-9b81ee2d954b",
   "metadata": {
    "tags": []
   },
   "outputs": [],
   "source": [
    "#Q7. list comprehension to iterate "
   ]
  },
  {
   "cell_type": "code",
   "execution_count": 74,
   "id": "25e3c730-25ac-4c65-99b9-083f78b38e84",
   "metadata": {
    "tags": []
   },
   "outputs": [],
   "source": [
    "s='pwskills'"
   ]
  },
  {
   "cell_type": "code",
   "execution_count": 86,
   "id": "8a2bd751-7932-46c5-9a56-65dde59b60e4",
   "metadata": {
    "tags": []
   },
   "outputs": [
    {
     "data": {
      "text/plain": [
       "['p', 'w', 's', 'k', 'i', 'l', 'l', 's']"
      ]
     },
     "execution_count": 86,
     "metadata": {},
     "output_type": "execute_result"
    }
   ],
   "source": [
    "[i for i in s]"
   ]
  },
  {
   "cell_type": "code",
   "execution_count": 76,
   "id": "6db6312a-960e-4027-80b1-6663d8f24d57",
   "metadata": {
    "tags": []
   },
   "outputs": [],
   "source": [
    "#Q8. palindrome or not (not  using while loop)"
   ]
  },
  {
   "cell_type": "code",
   "execution_count": 77,
   "id": "bdfa70da-a2ea-484c-9872-3674852216a2",
   "metadata": {
    "tags": []
   },
   "outputs": [],
   "source": [
    "def palindrome(num):\n",
    "    temp=num\n",
    "    reverse_num=0\n",
    "    while temp>0:\n",
    "        digit =temp%10\n",
    "        reverse_num=reverse_num*10+digit\n",
    "        temp=temp//10\n",
    "    if num == reverse_num:\n",
    "        return True\n",
    "    else:\n",
    "        return False"
   ]
  },
  {
   "cell_type": "code",
   "execution_count": 83,
   "id": "67bfd2a1-2734-49ab-910f-a3685df590c4",
   "metadata": {
    "tags": []
   },
   "outputs": [
    {
     "name": "stdin",
     "output_type": "stream",
     "text": [
      "Enter any number : 12321\n"
     ]
    },
    {
     "name": "stdout",
     "output_type": "stream",
     "text": [
      "12321 is a palindrome\n"
     ]
    }
   ],
   "source": [
    "n=int(input(\"Enter any number :\"))\n",
    "if palindrome(n):\n",
    "    print(f\"{n} is a palindrome\")\n",
    "else:\n",
    "    print(f\"{n} is not a palindrome\")"
   ]
  },
  {
   "cell_type": "code",
   "execution_count": 85,
   "id": "dccdff15-9ae1-4ca4-a2bd-d8a2ed812b75",
   "metadata": {
    "tags": []
   },
   "outputs": [],
   "source": [
    "#Q9. print odd numbers from 1 to 100 using list comprehension"
   ]
  },
  {
   "cell_type": "code",
   "execution_count": null,
   "id": "7442d0df-9cbf-4b87-8f76-40d31b5623c4",
   "metadata": {},
   "outputs": [],
   "source": [
    "[  for i in range(1,100,2)] "
   ]
  }
 ],
 "metadata": {
  "kernelspec": {
   "display_name": "Python 3 (ipykernel)",
   "language": "python",
   "name": "python3"
  },
  "language_info": {
   "codemirror_mode": {
    "name": "ipython",
    "version": 3
   },
   "file_extension": ".py",
   "mimetype": "text/x-python",
   "name": "python",
   "nbconvert_exporter": "python",
   "pygments_lexer": "ipython3",
   "version": "3.11.5"
  }
 },
 "nbformat": 4,
 "nbformat_minor": 5
}
