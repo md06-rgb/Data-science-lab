{
 "cells": [
  {
   "cell_type": "raw",
   "id": "d315fd75-d907-47e7-a67f-cdba01d11468",
   "metadata": {},
   "source": [
    "Ans(1):\n",
    "(1.1)For loop: \n",
    "         we use for loop when we know the total no. of          iteration (ie. length or range).\n",
    "         eg. for string \"sudh\" we know the length\n",
    "         that how many we have to iterate.\n",
    "\n",
    "(1.2) While loop:\n",
    "               if we don't know how many iteration\n",
    "               we have to do then we used while loop.\n",
    "               eg. total no. of employ in any\n",
    "               companies.\n"
   ]
  },
  {
   "cell_type": "code",
   "execution_count": 2,
   "id": "f1711b7a-868d-4be8-be66-558ebeb6953c",
   "metadata": {},
   "outputs": [],
   "source": [
    "#Answer 2. sum part"
   ]
  },
  {
   "cell_type": "code",
   "execution_count": 3,
   "id": "2844357a-a74d-4658-bb64-bb07f8243e1e",
   "metadata": {},
   "outputs": [
    {
     "name": "stdout",
     "output_type": "stream",
     "text": [
      "sum of 10 first natural no. is:  55\n"
     ]
    }
   ],
   "source": [
    "i=1\n",
    "s=0\n",
    "while i<=10:\n",
    "    s+=i\n",
    "    i+=1\n",
    "print(\"sum of 10 first natural no. is: \",s)"
   ]
  },
  {
   "cell_type": "code",
   "execution_count": 4,
   "id": "d8bd9fad-a96f-498f-aeb1-f0466f35de7e",
   "metadata": {},
   "outputs": [],
   "source": [
    "#ans 2. product part"
   ]
  },
  {
   "cell_type": "code",
   "execution_count": 12,
   "id": "f6ba3a12-0401-43dc-8724-22a9dd8df38f",
   "metadata": {},
   "outputs": [
    {
     "data": {
      "text/plain": [
       "3628800"
      ]
     },
     "execution_count": 12,
     "metadata": {},
     "output_type": "execute_result"
    }
   ],
   "source": [
    "p=1\n",
    "for i in range(1,11,1):\n",
    "    p*=i\n",
    "p"
   ]
  },
  {
   "cell_type": "code",
   "execution_count": 13,
   "id": "6e1f0a7b-3db8-4986-8a3b-8a870998f055",
   "metadata": {},
   "outputs": [],
   "source": [
    "# Answer 3. Electricity bill for a household"
   ]
  },
  {
   "cell_type": "code",
   "execution_count": 17,
   "id": "442269aa-4fb7-4a56-ae3a-81c4351a1ce4",
   "metadata": {},
   "outputs": [
    {
     "name": "stdin",
     "output_type": "stream",
     "text": [
      "enter your total unit in one month:  310\n"
     ]
    },
    {
     "name": "stdout",
     "output_type": "stream",
     "text": [
      "2250\n"
     ]
    }
   ],
   "source": [
    "unit=int(input(\"enter your total unit in one month: \"))\n",
    "\n",
    "if unit<=100:\n",
    "    print(unit*4.5)\n",
    "elif 100<unit <=200:\n",
    "    n=(unit-100)*6\n",
    "    print(450+n)\n",
    "elif 200<unit<=300:\n",
    "    n1=(unit-200)*10\n",
    "    print(1050+n1)\n",
    "else:\n",
    "    n2=(unit-300)*20\n",
    "    print(2050+n2)\n",
    "    \n",
    "    "
   ]
  },
  {
   "cell_type": "code",
   "execution_count": 24,
   "id": "eea380b6-9941-475b-93fd-71d76b29a1f7",
   "metadata": {},
   "outputs": [],
   "source": [
    "# Ans4. (1)using for loop"
   ]
  },
  {
   "cell_type": "code",
   "execution_count": 22,
   "id": "32cef990-2f16-4ad9-8329-0dcb93c31d85",
   "metadata": {},
   "outputs": [
    {
     "name": "stdout",
     "output_type": "stream",
     "text": [
      "[8, 64, 125, 216, 512, 1000, 1728, 2744, 3375, 4096, 5832, 8000, 10648, 13824, 15625, 17576, 21952, 27000, 32768, 39304, 42875, 46656, 54872, 64000, 74088, 85184, 91125, 97336, 110592, 125000, 140608, 157464, 166375, 175616, 195112, 216000, 238328, 262144, 274625, 287496, 314432, 343000, 373248, 405224, 421875, 438976, 474552, 512000, 551368, 592704, 614125, 636056, 681472, 729000, 778688, 830584, 857375, 884736, 941192, 1000000]\n"
     ]
    }
   ],
   "source": [
    "l=[]\n",
    "for i in range(1,101):\n",
    "    c=i**3\n",
    "    if c%4==0 or c%5==0:\n",
    "        l.append(c)\n",
    "print(l)"
   ]
  },
  {
   "cell_type": "code",
   "execution_count": 25,
   "id": "515f3132-ab3e-4dbe-a973-fc664999caeb",
   "metadata": {},
   "outputs": [],
   "source": [
    "#Ans.4. (2)using while loop"
   ]
  },
  {
   "cell_type": "code",
   "execution_count": 1,
   "id": "b1c35248-9805-4d08-9479-4a8226c64633",
   "metadata": {},
   "outputs": [
    {
     "name": "stdout",
     "output_type": "stream",
     "text": [
      "[8, 64, 125, 216, 512, 1000, 1728, 2744, 3375, 4096, 5832, 8000, 10648, 13824, 15625, 17576, 21952, 27000, 32768, 39304, 42875, 46656, 54872, 64000, 74088, 85184, 91125, 97336, 110592, 125000, 140608, 157464, 166375, 175616, 195112, 216000, 238328, 262144, 274625, 287496, 314432, 343000, 373248, 405224, 421875, 438976, 474552, 512000, 551368, 592704, 614125, 636056, 681472, 729000, 778688, 830584, 857375, 884736, 941192, 1000000]\n"
     ]
    }
   ],
   "source": [
    "l1=[]\n",
    "i=1\n",
    "while i<=100:\n",
    "    c=i**3\n",
    "    if c%4==0 or c%5==0:\n",
    "        l1.append(c)\n",
    "    i+=1\n",
    "print(l1)"
   ]
  },
  {
   "cell_type": "code",
   "execution_count": 2,
   "id": "5e9f1121-c4b1-4743-86ab-373fa3a94666",
   "metadata": {},
   "outputs": [],
   "source": [
    "#Q5. WAP TO FILTER COUNT VOWELS IN SIRING=\" I want to became a data scientist\""
   ]
  },
  {
   "cell_type": "code",
   "execution_count": 4,
   "id": "4b2c2e25-bbce-48c6-8afa-0cd22647f6b3",
   "metadata": {},
   "outputs": [
    {
     "data": {
      "text/plain": [
       "12"
      ]
     },
     "execution_count": 4,
     "metadata": {},
     "output_type": "execute_result"
    }
   ],
   "source": [
    "s=\"I want to become a data scientist\"\n",
    "s=s.lower()\n",
    "count=0\n",
    "for i in s:\n",
    "    if i=='a' or i=='e' or i=='i' or i=='o' or i=='u':\n",
    "        count+=1\n",
    "count"
   ]
  },
  {
   "cell_type": "code",
   "execution_count": null,
   "id": "6e6947b5-ff2c-4c7c-81c6-48208ecf18e5",
   "metadata": {},
   "outputs": [],
   "source": []
  }
 ],
 "metadata": {
  "kernelspec": {
   "display_name": "Python 3 (ipykernel)",
   "language": "python",
   "name": "python3"
  },
  "language_info": {
   "codemirror_mode": {
    "name": "ipython",
    "version": 3
   },
   "file_extension": ".py",
   "mimetype": "text/x-python",
   "name": "python",
   "nbconvert_exporter": "python",
   "pygments_lexer": "ipython3",
   "version": "3.10.8"
  }
 },
 "nbformat": 4,
 "nbformat_minor": 5
}
