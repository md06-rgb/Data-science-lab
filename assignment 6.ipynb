{
 "cells": [
  {
   "cell_type": "code",
   "execution_count": null,
   "id": "b72d24c9-2236-4bb8-9774-7bb73e4d132d",
   "metadata": {},
   "outputs": [],
   "source": [
    "#Q1. input as percentage and show output according to grade 'A' if (mark>90) "
   ]
  },
  {
   "cell_type": "code",
   "execution_count": 1,
   "id": "b59c8f2c-ec23-4f59-a0dc-4f9d95f406b7",
   "metadata": {
    "tags": []
   },
   "outputs": [
    {
     "name": "stdin",
     "output_type": "stream",
     "text": [
      "Enter your percentage : 33\n"
     ]
    },
    {
     "name": "stdout",
     "output_type": "stream",
     "text": [
      "Grade D\n"
     ]
    }
   ],
   "source": [
    "mark=int(input(\"Enter your percentage :\"))\n",
    "if mark>90:\n",
    "    print(\"Grade A\")\n",
    "\n",
    "elif 80<mark<=90:\n",
    "    print(\"Grade B\")\n",
    "\n",
    "elif 60<=mark<=80:\n",
    "    print(\"Grade C\")\n",
    "          \n",
    "else:\n",
    "    print(\"Grade D\")"
   ]
  },
  {
   "cell_type": "code",
   "execution_count": 1,
   "id": "6166fb37-6610-4a26-9cf2-83943f689475",
   "metadata": {},
   "outputs": [
    {
     "name": "stdin",
     "output_type": "stream",
     "text": [
      "Enter cost price of a bike : 50000\n"
     ]
    },
    {
     "name": "stdout",
     "output_type": "stream",
     "text": [
      "Road Tax according to your detail is : 2500.0\n"
     ]
    }
   ],
   "source": [
    "#Q2.accept the cost price of a bike and display the road\n",
    "#tax to be paid according to the tax=15%,10%, 5% then \n",
    "# road tax costprice is >100000, >50000 and <=100000,\n",
    "# <=50000 respectively.\n",
    "\n",
    "cost_price=int(input(\"Enter cost price of a bike :\"))\n",
    "roadTax_percentage=0\n",
    "if cost_price >100000:\n",
    "    roadTax_percentage=15\n",
    "elif 50000<cost_price <=100000:\n",
    "    roadTax_percentage=10\n",
    "else:\n",
    "    roadTax_percentage=5\n",
    "\n",
    "roadTax=(roadTax_percentage/100.0)*cost_price\n",
    "\n",
    "print(\"Road Tax according to your detail is :\",roadTax)\n",
    "    "
   ]
  },
  {
   "cell_type": "code",
   "execution_count": 3,
   "id": "58610ec9-246d-40f8-a60c-1059d93c0f08",
   "metadata": {
    "tags": []
   },
   "outputs": [
    {
     "name": "stdin",
     "output_type": "stream",
     "text": [
      "Enter city name( delhi, agra, jaipur) : agra\n"
     ]
    },
    {
     "name": "stdout",
     "output_type": "stream",
     "text": [
      "Taj Mahal\n"
     ]
    }
   ],
   "source": [
    "#Q3. accept any city from user (delhi, agra, jaipur) and monuments of that city.\n",
    "#monuments are (red fort, taj mahal, jal mahal)respectively.\n",
    "\n",
    "city=input(\"Enter city name( delhi, agra, jaipur) :\")\n",
    "\n",
    "\n",
    "if city.lower()=='delhi':\n",
    "    print(\"Red Fort\")\n",
    "\n",
    "\n",
    "elif city.lower()=='agra':\n",
    "    print(\"Taj Mahal\")\n",
    "    \n",
    "\n",
    "elif city.lower()=='jaipur':\n",
    "    print(\"Jal Mahal\")\n",
    "    "
   ]
  },
  {
   "cell_type": "code",
   "execution_count": 13,
   "id": "5892186e-c72a-4bc0-8d2c-1c270f9cf79a",
   "metadata": {
    "tags": []
   },
   "outputs": [
    {
     "name": "stdin",
     "output_type": "stream",
     "text": [
      "Enter any integer number: 60\n"
     ]
    },
    {
     "name": "stdout",
     "output_type": "stream",
     "text": [
      "2 times a given no. 60 can be divided by 3(before 60  become 10)\n"
     ]
    }
   ],
   "source": [
    "#Q4: check how many times a given number can be divided by 3 before it is less than or equal to 10\n",
    "\n",
    "num=int(input(\"Enter any integer number:\"))\n",
    "n=num\n",
    "count=0\n",
    "while num >=10:\n",
    "    num/=3\n",
    "    count+=1\n",
    "print(count,\"times a given no.\",n,\"can be divided by 3(before\",n,\" become 10)\") "
   ]
  },
  {
   "cell_type": "raw",
   "id": "b0206a71-2bb4-4214-a38b-ee1428c050e3",
   "metadata": {},
   "source": [
    "Q5. \n",
    "Ans:\n",
    "  * while loop in python to repeatedly execute the    block of code. \n",
    "   \n",
    "  * we used while loop in python when we don't know how many iteration we have to do on block of code. \n",
    "  \n",
    "  E.g given below"
   ]
  },
  {
   "cell_type": "code",
   "execution_count": 5,
   "id": "092ee568-d619-4e11-8bfa-0c695d6225e0",
   "metadata": {
    "tags": []
   },
   "outputs": [
    {
     "name": "stdin",
     "output_type": "stream",
     "text": [
      "Enter a number:  2\n"
     ]
    }
   ],
   "source": [
    "while True:\n",
    "    try:\n",
    "        user_input = int(input(\"Enter a number: \"))\n",
    "        break  \n",
    "    except ValueError:\n",
    "        print(\"Invalid input. Please enter a valid number.\")\n"
   ]
  },
  {
   "cell_type": "code",
   "execution_count": 12,
   "id": "4d310776-f763-4f50-a112-57528e67391b",
   "metadata": {
    "tags": []
   },
   "outputs": [
    {
     "name": "stdin",
     "output_type": "stream",
     "text": [
      "Enter rows or column of pattern: 5\n"
     ]
    },
    {
     "name": "stdout",
     "output_type": "stream",
     "text": [
      "*         \n",
      "\n",
      "* *       \n",
      "\n",
      "* * *     \n",
      "\n",
      "* * * *   \n",
      "\n",
      "* * * * * \n",
      "\n"
     ]
    }
   ],
   "source": [
    "#Ans 6:   use nested while loop to print 3 different pattern.\n",
    "\n",
    "n=int(input(\"Enter rows or column of pattern:\"))\n",
    "i=1\n",
    "while i<=n:\n",
    "    j=1\n",
    "    while j<=n:\n",
    "        if i>=j:\n",
    "            print(\"*\",end=\" \")\n",
    "        else:\n",
    "            print(\" \",end=\" \")\n",
    "        j+=1\n",
    "    print('\\n')\n",
    "    i+=1\n"
   ]
  },
  {
   "cell_type": "code",
   "execution_count": 15,
   "id": "71f265ca-29f2-43b3-8560-b2ad86fa44ff",
   "metadata": {
    "tags": []
   },
   "outputs": [
    {
     "name": "stdin",
     "output_type": "stream",
     "text": [
      "Enter the value of n:  3\n"
     ]
    },
    {
     "name": "stdout",
     "output_type": "stream",
     "text": [
      "  *   \n",
      "*   * \n",
      "  *   \n"
     ]
    }
   ],
   "source": [
    "# 2nd pattern\n",
    "n = int(input(\"Enter the value of n: \"))\n",
    "\n",
    "i = 1\n",
    "while i <= n:\n",
    "    j = 1\n",
    "    \n",
    "    while j <= n:\n",
    "        if (i == 1 and j == n // 2 + 1) or (i == n // 2 + 1 and (j == 1 or j == n)) or (i == n and j == n // 2 + 1):\n",
    "            print(\"*\", end=\" \")\n",
    "        else:\n",
    "            print(\" \", end=\" \")\n",
    "        \n",
    "        j += 1\n",
    "\n",
    "    print() \n",
    "    i += 1\n"
   ]
  },
  {
   "cell_type": "code",
   "execution_count": 16,
   "id": "d01aabc4-046c-4e42-bb36-a05d2d82a32f",
   "metadata": {
    "tags": []
   },
   "outputs": [
    {
     "name": "stdin",
     "output_type": "stream",
     "text": [
      "Enter rows or column of pattern: 5\n"
     ]
    },
    {
     "name": "stdout",
     "output_type": "stream",
     "text": [
      "* * * * * \n",
      "\n",
      "  * * * * \n",
      "\n",
      "    * * * \n",
      "\n",
      "      * * \n",
      "\n",
      "        * \n",
      "\n"
     ]
    }
   ],
   "source": [
    "# 3rd pattern \n",
    "n=int(input(\"Enter rows or column of pattern:\"))\n",
    "i=1\n",
    "while i<=n:\n",
    "    j=1\n",
    "    while j<=n:\n",
    "        if i<=j:\n",
    "            print(\"*\",end=\" \")\n",
    "        else:\n",
    "            print(\" \",end=\" \")\n",
    "        j+=1\n",
    "    print('\\n')\n",
    "    i+=1"
   ]
  },
  {
   "cell_type": "code",
   "execution_count": null,
   "id": "73ee191b-d910-4780-94d2-267b090ffe15",
   "metadata": {},
   "outputs": [],
   "source": []
  }
 ],
 "metadata": {
  "kernelspec": {
   "display_name": "Python 3 (ipykernel)",
   "language": "python",
   "name": "python3"
  },
  "language_info": {
   "codemirror_mode": {
    "name": "ipython",
    "version": 3
   },
   "file_extension": ".py",
   "mimetype": "text/x-python",
   "name": "python",
   "nbconvert_exporter": "python",
   "pygments_lexer": "ipython3",
   "version": "3.11.5"
  }
 },
 "nbformat": 4,
 "nbformat_minor": 5
}
