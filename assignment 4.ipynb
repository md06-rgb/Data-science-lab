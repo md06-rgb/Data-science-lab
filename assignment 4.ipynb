{
 "cells": [
  {
   "cell_type": "raw",
   "id": "f759e371-94b5-4ed6-aa78-eebb987fd371",
   "metadata": {},
   "source": [
    "Q1.***\n",
    "Ans. ** class is the user-defined data type           that describe a set of member                 function or attributes and method or         behaviour. \n",
    "        e.g: car ,doctor etc is the class\n",
    "\n",
    "*** object: It is defined as the instance of             class.\n",
    "    eg.: swift desire, dr. malhotra, etc are     instance of class"
   ]
  },
  {
   "cell_type": "raw",
   "id": "fb9edd22-68ce-4f1a-a91e-c742a19b9a23",
   "metadata": {},
   "source": [
    "Q2.:\n",
    "Ans: four pillars of oops are:\n",
    "     *Encapsulation.\n",
    "     *Abstruction.\n",
    "     *Polymorphism.\n",
    "     *Inheritance.\n",
    "   "
   ]
  },
  {
   "cell_type": "raw",
   "id": "4d058df2-59e5-45e4-976d-c0565146206c",
   "metadata": {},
   "source": [
    "Q3.:\n",
    "Ans: It is used for initilize the attributes  of object when create class object."
   ]
  },
  {
   "cell_type": "code",
   "execution_count": 8,
   "id": "64ff67b7-7687-4721-9270-8659ef56e48a",
   "metadata": {
    "tags": []
   },
   "outputs": [],
   "source": [
    "#eg. for __init__() method\n",
    "class car:\n",
    "    def __init__(self, car_name=None, model=None):\n",
    "        self.name =car_name\n",
    "        self.model=model\n",
    "    def show(self):\n",
    "        print(self.name ,self.model)"
   ]
  },
  {
   "cell_type": "code",
   "execution_count": 11,
   "id": "a046cefc-1e16-41db-9440-060c3d88b136",
   "metadata": {
    "tags": []
   },
   "outputs": [],
   "source": [
    "c1=car(\"audi\", 'q5')"
   ]
  },
  {
   "cell_type": "code",
   "execution_count": 12,
   "id": "355611e4-8caf-4fa6-9916-2ae0f17c753b",
   "metadata": {
    "tags": []
   },
   "outputs": [
    {
     "name": "stdout",
     "output_type": "stream",
     "text": [
      "audi q5\n"
     ]
    }
   ],
   "source": [
    "c1.show()"
   ]
  },
  {
   "cell_type": "raw",
   "id": "683fb893-4dd3-4179-9d50-995929a4d50e",
   "metadata": {},
   "source": [
    "Q4.:\n",
    "Ans: self in Python refers to the instance of the class, allowing method access to instance-specific attributes, ensuring proper method invocation, and minimizing code ambiguity."
   ]
  },
  {
   "cell_type": "raw",
   "id": "2479c689-d9d1-49d2-b4fd-4aed7ba1268d",
   "metadata": {},
   "source": [
    "Q5:\n",
    "Ans: It is defined as taking behivour or attributes  from parent class.\n",
    "\n",
    "**types are:\n",
    "1. single inheritance\n",
    "2. multiple inheritance\n",
    "3. multi level inheritance\n",
    "4. Hierarchical Inheritance\n",
    "5. hybrid Inheritance"
   ]
  },
  {
   "cell_type": "code",
   "execution_count": 13,
   "id": "d5d4def3-bd34-4431-80c1-c1d4ce838cf9",
   "metadata": {
    "tags": []
   },
   "outputs": [],
   "source": [
    "# 1. single inheritance:\n",
    "class car():\n",
    "    pass\n",
    "class car1(car):\n",
    "    pass\n"
   ]
  },
  {
   "cell_type": "code",
   "execution_count": 14,
   "id": "c7c6c9d3-7fc4-4246-adb4-7279df696197",
   "metadata": {
    "tags": []
   },
   "outputs": [],
   "source": [
    "# 2.Multiple inheritance:\n",
    "class c1():\n",
    "    pass\n",
    "class c2():\n",
    "    pass\n",
    "class c3(c1,c2):\n",
    "    pass\n"
   ]
  },
  {
   "cell_type": "code",
   "execution_count": 16,
   "id": "73fd9386-7397-4c6b-8dd8-e0e37f6be2a2",
   "metadata": {
    "tags": []
   },
   "outputs": [],
   "source": [
    "# 3.Multilevel inheritance:\n",
    "class animal():\n",
    "    pass\n",
    "class mammal(animal):\n",
    "    pass\n",
    "class bird(animal):\n",
    "    pass\n"
   ]
  },
  {
   "cell_type": "code",
   "execution_count": 17,
   "id": "eb89e51d-5a72-4eac-9d65-83d71b2f2320",
   "metadata": {
    "tags": []
   },
   "outputs": [],
   "source": [
    "# 4 Hierarchical inheritance:\n",
    "class shape():\n",
    "    pass\n",
    "class rectangle(shape):\n",
    "    pass\n",
    "class square(shape):\n",
    "    pass\n",
    "class circle(shape):\n",
    "    pass"
   ]
  },
  {
   "cell_type": "code",
   "execution_count": null,
   "id": "90d48d44-1ff4-4bd9-92cb-77b411762bce",
   "metadata": {},
   "outputs": [],
   "source": [
    "#5. Hybrid Inheritance:\n",
    "class a():\n",
    "    pass\n",
    "class b(a):\n",
    "    pass\n"
   ]
  }
 ],
 "metadata": {
  "kernelspec": {
   "display_name": "Python 3 (ipykernel)",
   "language": "python",
   "name": "python3"
  },
  "language_info": {
   "codemirror_mode": {
    "name": "ipython",
    "version": 3
   },
   "file_extension": ".py",
   "mimetype": "text/x-python",
   "name": "python",
   "nbconvert_exporter": "python",
   "pygments_lexer": "ipython3",
   "version": "3.11.5"
  }
 },
 "nbformat": 4,
 "nbformat_minor": 5
}
